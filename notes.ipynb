{
 "cells": [
  {
   "cell_type": "code",
   "execution_count": null,
   "metadata": {},
   "outputs": [],
   "source": [
    "docker run -it -v wwiv:/srv/wwiv -p 2424:2323 -d --name local dockerimagewwiv:latest"
   ]
  },
  {
   "cell_type": "code",
   "execution_count": null,
   "metadata": {
    "vscode": {
     "languageId": "dockerfile"
    }
   },
   "outputs": [],
   "source": [
    "RUN dnf -y install dnf-plugins-core\n",
    "RUN dnf install -y git make ncurses-devel cmake gcc gcc-c++ vim unzip zip findutils iproute procps-ng hostname zlib-devel\n",
    "\n",
    "RUN apk update\n",
    "RUN apk add zip unzip zlib-dev ncurses-dev findutils iproute2 procps hostname gcc g++\n",
    "\n",
    "RUN opkg update\n",
    "RUN opkg install zip unzip zlib-devel ncurses-devel findutils iproute2 procps-ng hostname gcc gcc-c++\n",
    "\n",
    "RUN apt update\n",
    "RUN apt update && apt install -y git make libncurses5-dev cmake gcc g++ vim unzip zip findutils iproute2 procps hostname zlib1g-dev build-essential\n"
   ]
  }
 ],
 "metadata": {
  "language_info": {
   "name": "python"
  }
 },
 "nbformat": 4,
 "nbformat_minor": 2
}
