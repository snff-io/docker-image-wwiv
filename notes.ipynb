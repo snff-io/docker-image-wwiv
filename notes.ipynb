{
 "cells": [
  {
   "cell_type": "code",
   "execution_count": null,
   "metadata": {},
   "outputs": [],
   "source": []
  },
  {
   "cell_type": "code",
   "execution_count": null,
   "metadata": {},
   "outputs": [],
   "source": [
    "RUN dnf -y install dnf-plugins-core\n",
    "RUN dnf install -y git make ncurses-devel cmake gcc gcc-c++ vim unzip zip findutils iproute procps-ng hostname zlib-devel\n",
    "\n",
    "RUN apk update\n",
    "RUN apk add zip unzip zlib-dev ncurses-dev findutils iproute2 procps hostname gcc g++\n",
    "\n",
    "RUN opkg update\n",
    "RUN opkg install zip unzip zlib-devel ncurses-devel findutils iproute2 procps-ng hostname gcc gcc-c++\n",
    "\n",
    "RUN apt update\n",
    "RUN apt update && apt install -y git make libncurses5-dev cmake gcc g++ vim unzip zip findutils iproute2 procps hostname zlib1g-dev build-essential\n"
   ]
  },
  {
   "cell_type": "code",
   "execution_count": null,
   "metadata": {
    "vscode": {
     "languageId": "shellscript"
    }
   },
   "outputs": [
    {
     "ename": "",
     "evalue": "",
     "output_type": "error",
     "traceback": [
      "\u001b[1;31mRunning cells with '/bin/python3' requires the ipykernel package.\n",
      "\u001b[1;31mRun the following command to install 'ipykernel' into the Python environment. \n",
      "\u001b[1;31mCommand: '/bin/python3 -m pip install ipykernel -U --user --force-reinstall'"
     ]
    }
   ],
   "source": [
    "mkdir tmp\n",
    "# Download and extract ncurses source code\n",
    "\n",
    "curl -L https://invisible-mirror.net/archives/ncurses/ncurses-6.3.tar.gz -o ./tmp/ncurses-6.3.tar.gz\n",
    "tar -xzvf /tmp/ncurses-6.3.tar.gz -C ./tmp\n",
    "cd ./tmp/ncurses-6.3 \n",
    "./configure --prefix=/usr/local \n",
    "make \n",
    "make install\n",
    "\n",
    "# Download and extract zlib source code\n",
    "curl -L https://zlib.net/zlib-1.2.11.tar.gz ./tmp/zlib-1.2.11.tar.gz\n",
    "tar -xzvf /tmp/zlib-1.2.11.tar.gz -C ./tmp \n",
    "cd /tmp/zlib-1.2.11 \n",
    "./configure --prefix=/usr/local \n",
    "make \n",
    "make install\n",
    "\n",
    "# Cleanup\n",
    "RUN rm -rf ./tmp/*\n"
   ]
  }
 ],
 "metadata": {
  "kernelspec": {
   "display_name": "Python 3",
   "language": "python",
   "name": "python3"
  },
  "language_info": {
   "name": "python",
   "version": "3.11.2"
  }
 },
 "nbformat": 4,
 "nbformat_minor": 2
}
